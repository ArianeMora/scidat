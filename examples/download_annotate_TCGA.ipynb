{
 "cells": [
  {
   "cell_type": "markdown",
   "metadata": {
    "collapsed": true,
    "pycharm": {
     "name": "#%% md\n"
    }
   },
   "source": [
    "# Example using scidat: Download Annotate TCGA\n",
    "\n",
    "This was designed to be a simple interface that allows for downloading and annotating data from TCGA.\n"
   ]
  },
  {
   "cell_type": "markdown",
   "metadata": {
    "pycharm": {
     "name": "#%% md\n"
    }
   },
   "source": [
    "## Section 1: Data selection and metadata download\n",
    "\n",
    "Download metatdata from TCGA.\n",
    "For this program to work you need to first go to: https://portal.gdc.cancer.gov/ and select the files to download.\n",
    "\n",
    "In this example, I chose my data by using the following steps:\n",
    "    1. Navigate to `Exploration` tab\n",
    "    2. Selected `kidney` as the Primary Site\n",
    "    3. Selected `solid tissue normal` and `primary tumor` for my Sample Type (823 cases)\n",
    "    4. Clicked `View Files in Repository`\n",
    "    5. **OPTIONAL**: download the mutation information --> select `Mutations` tab and click `JSON` to download mutation data\n",
    "    \n",
    "Since I'm only interested in RNAseq count data and Methylation beta values, I filter my files to only include these two types of files.   \n",
    "    6. Selected `RNA-seq` as my Experimental Strategy\n",
    "    7. Selected `HTSeq - Counts` in Workflow Type\n",
    "    8. Clicked `Add all files to cart` (945 files, 815 cases)\n",
    "    9. Unselected `HTSeq - Counts` and unselected `RNA-seq`\n",
    "    10. Selected `Methylation array` as my Experimental Strategy\n",
    "    11. Selected `illumina human methylation 450` in Platform\n",
    "    12. Clicked `Add all files to cart` (832 files, 630 cases)\n",
    "    \n",
    "Now I navigated to my cart which had 1777 files in it. Since it is recomended to use th GDC-data transfer tool (which scidat uses) I only download the `manifest` and the `metadata` for my files of interest.\n",
    "Before proceeding, look at how much space the files will need (e.g. for me this is 117GB) make sure the computer you are downloading on has that space available.\n",
    "\n",
    "### Download: \n",
    "    13. `Biospecimen`\n",
    "    14. `Clinical`\n",
    "    15. `Sample Sheet`\n",
    "    16. `Metadata`\n",
    "    17. Click the `Download` button and select `Manifest`\n",
    "\n",
    "Lastly, move all these files to a new empty directory `~/Documents/TCGA_data_download_scidat/`. \n",
    "Unzip the `Clinical` folder and delete the zipped version.\n",
    "Make a new directory in `~/Documents/TCGA_data_download_scidat/` called `downloads` (we'll use this below)\n",
    "\n",
    "## Get GDC Data Transfer Tool\n",
    "If you haven't already got the GDC transfer tool, you'll need to download this, follow the instructions from TCGA on how to do this:\n",
    "https://gdc.cancer.gov/access-data/gdc-data-transfer-tool\n",
    "\n",
    "Move the downloaded GDC transfer tool to the same directory you put your manifest file in i.e. `~/Documents/TCGA_data_download_scidat/` from before.\n",
    "Now we're ready to download the files and annotate them with the data we downloaded.\n",
    "    "
   ]
  },
  {
   "cell_type": "markdown",
   "metadata": {},
   "source": [
    "## Section 2: File download\n",
    "\n",
    "The script below assumes you have put the files from above in `~/Documents/TCGA_data_download_scidat/` and that your `gdc-client` is executable.\n",
    "\n",
    "If you are using a windows machine (or put your files in a different folder you'll need to rename that directory).\n",
    "\n",
    "Before running the script below you will need to make sure you have edited the path to the manifest file, and the gdc_client to be located where you placed them on your computer and with their proper names\n",
    "(e.g. "
   ]
  },
  {
   "cell_type": "code",
   "execution_count": null,
   "metadata": {
    "pycharm": {
     "name": "#%% \n"
    }
   },
   "outputs": [],
   "source": [
    "from scidat import Download\n",
    "\n",
    "manifest_file = '~/Documents/TCGA_data_download_scidat/manifest.tsv'\n",
    "gdc_client = '~/Documents/TCGA_data_download_scidat/./gdc_client'\n",
    "download_dir = '~/Documents/TCGA_data_download_scidat/downloads/'\n",
    "\n",
    "# scidat spits the manifest file into submanifests so that we can make multiple calls to TCGA simulateously. \n",
    "# This speeds up the download process. Note, it will use up more of your computers' processing so if you are worried\n",
    "# just set the max_cnt to be more than the number of files in your manifest e.g. 100000000\n",
    "download = Download(manifest_file, download_dir, download_dir, gdc_client, max_cnt=100000000)"
   ]
  },
  {
   "cell_type": "markdown",
   "metadata": {
    "pycharm": {
     "name": "#%% md\n"
    }
   },
   "source": [
    "## Section 3: Clinical information annotation"
   ]
  },
  {
   "cell_type": "code",
   "execution_count": 1,
   "metadata": {
    "pycharm": {
     "name": "#%%\n"
    }
   },
   "outputs": [
    {
     "ename": "ModuleNotFoundError",
     "evalue": "No module named 'scidat'",
     "output_type": "error",
     "traceback": [
      "\u001b[0;31m---------------------------------------------------------------------------\u001b[0m",
      "\u001b[0;31mModuleNotFoundError\u001b[0m                       Traceback (most recent call last)",
      "\u001b[0;32m<ipython-input-1-cff4c25323a4>\u001b[0m in \u001b[0;36m<module>\u001b[0;34m\u001b[0m\n\u001b[0;32m----> 1\u001b[0;31m \u001b[0;32mfrom\u001b[0m \u001b[0mscidat\u001b[0m \u001b[0;32mimport\u001b[0m \u001b[0mAnnotate\u001b[0m\u001b[0;34m\u001b[0m\u001b[0;34m\u001b[0m\u001b[0m\n\u001b[0m\u001b[1;32m      2\u001b[0m \u001b[0;34m\u001b[0m\u001b[0m\n\u001b[1;32m      3\u001b[0m \u001b[0mmeta_dir\u001b[0m \u001b[0;34m=\u001b[0m \u001b[0;34m'~/Documents/TCGA_data_download_scidat/'\u001b[0m\u001b[0;34m\u001b[0m\u001b[0;34m\u001b[0m\u001b[0m\n\u001b[1;32m      4\u001b[0m \u001b[0mclinical_file\u001b[0m \u001b[0;34m=\u001b[0m \u001b[0mmeta_dir\u001b[0m \u001b[0;34m+\u001b[0m \u001b[0;34m'clinical.txt'\u001b[0m\u001b[0;34m\u001b[0m\u001b[0;34m\u001b[0m\u001b[0m\n\u001b[1;32m      5\u001b[0m \u001b[0msample_file\u001b[0m \u001b[0;34m=\u001b[0m \u001b[0mmeta_dir\u001b[0m \u001b[0;34m+\u001b[0m \u001b[0;34m'sample_sheet.txt'\u001b[0m\u001b[0;34m\u001b[0m\u001b[0;34m\u001b[0m\u001b[0m\n",
      "\u001b[0;31mModuleNotFoundError\u001b[0m: No module named 'scidat'"
     ]
    }
   ],
   "source": [
    "from scidat import Annotate\n",
    "\n",
    "meta_dir = '~/Documents/TCGA_data_download_scidat/'\n",
    "clinical_file = meta_dir + 'clinical.txt'\n",
    "sample_file = meta_dir + 'sample_sheet.txt'\n",
    "manifest_file = meta_dir + 'manifest.tsv'\n",
    "\n",
    "# Here we want both count data and methylation M450 data\n",
    "self.annotator = Annotate(self.tmp_dir, clinical_file, sample_file, manifest_file,\n",
    "                                  ['count', 'm450'])\n",
    "\n",
    "# Build the annotation\n",
    "self.annotator.build_annotation()\n",
    "\n",
    "# Now we can save the annotation as a CSV file\n",
    "self.annotator.save_annotation(meta_dir, 'files_annotated_with_clinical_info')\n"
   ]
  },
  {
   "cell_type": "markdown",
   "metadata": {},
   "source": [
    "## Section 4: Annotation with mutation data\n",
    "\n",
    "Unfortunately TCGA doesn't make it easy to add the mutation annotation data. \n",
    "\n",
    "If in **Section 1** you didn't do the optional *step 5* please go back and download the mutation data as we need this to add the mutation information.\n",
    "\n",
    "How this section works is that we have the different mutations (the file we downloaded from **Section 1** has the mutation ID and the information about the specific mutation. Unfortunatly, this isn't connected to a case (patient). In order to connect the mutation with the patient we need to call the API provided by TCGA (https://docs.gdc.cancer.gov/API/Users_Guide/Data_Analysis/#simple-somatic-mutation-endpoint-examples).\n"
   ]
  }
 ],
 "metadata": {
  "kernelspec": {
   "display_name": "Python 3",
   "language": "python",
   "name": "python3"
  },
  "language_info": {
   "codemirror_mode": {
    "name": "ipython",
    "version": 3
   },
   "file_extension": ".py",
   "mimetype": "text/x-python",
   "name": "python",
   "nbconvert_exporter": "python",
   "pygments_lexer": "ipython3",
   "version": "3.8.2"
  },
  "pycharm": {
   "stem_cell": {
    "cell_type": "raw",
    "metadata": {
     "collapsed": false
    },
    "source": []
   }
  }
 },
 "nbformat": 4,
 "nbformat_minor": 1
}
