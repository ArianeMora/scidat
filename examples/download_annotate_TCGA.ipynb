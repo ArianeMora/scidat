{
 "cells": [
  {
   "cell_type": "markdown",
   "metadata": {
    "collapsed": true,
    "pycharm": {
     "name": "#%% md\n"
    }
   },
   "source": [
    "# Example using scidat: Download Annotate TCGA\n",
    "\n",
    "This was designed to be a simple interface that allows for downloading and annotating data from TCGA.\n"
   ]
  },
  {
   "cell_type": "markdown",
   "metadata": {
    "pycharm": {
     "name": "#%% md\n"
    }
   },
   "source": [
    "## Section 1: Data selection and metadata download\n",
    "\n",
    "Download metatdata from TCGA.\n",
    "For this program to work you need to first go to: https://portal.gdc.cancer.gov/ and select the files to download.\n",
    "\n",
    "In this example, I chose my data by using the following steps:\n",
    "    1. Navigate to `Exploration` tab\n",
    "    2. Selected `kidney` as the Primary Site\n",
    "    3. Selected `solid tissue normal` and `primary tumor` for my Sample Type (823 cases)\n",
    "    4. Selected `KIRP` as the project (279 cases)\n",
    "    5. Selected `dead` as the vital status (43 cases)\n",
    "    6. Clicked `View Files in Repository`\n",
    "    \n",
    "Since I'm only interested in RNAseq count data and Methylation beta values, I filter my files to only include these two types of files.   \n",
    "    7. Selected `RNA-seq` as my Experimental Strategy\n",
    "    8. Selected `HTSeq - Counts` in Workflow Type\n",
    "    9. Clicked `Add all files to cart` (50 files, 43 cases)\n",
    "    \n",
    "link: https://portal.gdc.cancer.gov/repository?filters=%7B%22op%22%3A%22and%22%2C%22content%22%3A%5B%7B%22content%22%3A%7B%22field%22%3A%22cases.case_id%22%2C%22value%22%3A%5B%22set_id%3AAXGBi619om_VEIzbp9eW%22%5D%7D%2C%22op%22%3A%22IN%22%7D%2C%7B%22op%22%3A%22in%22%2C%22content%22%3A%7B%22field%22%3A%22files.analysis.workflow_type%22%2C%22value%22%3A%5B%22HTSeq%20-%20Counts%22%5D%7D%7D%2C%7B%22op%22%3A%22in%22%2C%22content%22%3A%7B%22field%22%3A%22files.experimental_strategy%22%2C%22value%22%3A%5B%22RNA-Seq%22%5D%7D%7D%5D%7D\n",
    "\n",
    "Now I navigated to my cart which had 50 files in it. Since it is recomended to use th GDC-data transfer tool (which scidat uses) I only download the `manifest` and the `metadata` for my files of interest.\n",
    "Before proceeding, look at how much space the files will need (e.g. for me this is 12.62MB) make sure the computer you are downloading on has that space available.\n",
    "\n",
    "### Download: \n",
    "    13. `Biospecimen` (tsv)\n",
    "    14. `Clinical` (tsv)\n",
    "    15. `Sample Sheet`\n",
    "    16. `Metadata`\n",
    "    17. Click the `Download` button and select `Manifest`\n",
    "\n",
    "Last steps:\n",
    "     1. Lastly, move all these files to a new empty directory `~/Documents/TCGA_data_download_scidat/`. \n",
    "     2. Unzip the `Clinical` folder and delete the zipped version.\n",
    "     3. Copy the `clinical.tsv` file in the `clinical.cart....` folder to the `~/Documents/TCGA_data_download_scidat/` directory.\n",
    "     4. Make a new directory in `~/Documents/TCGA_data_download_scidat/` called `downloads` (we'll use this below)\n",
    "\n",
    "## Get GDC Data Transfer Tool\n",
    "If you haven't already got the GDC transfer tool, you'll need to download this, follow the instructions from TCGA on how to do this:\n",
    "https://gdc.cancer.gov/access-data/gdc-data-transfer-tool\n",
    "\n",
    "(choose the correct version of the below 3 for your system)\n",
    "Package icongdc-client_v1.5.0_Windows_x64.zip\n",
    "Package icongdc-client_v1.5.0_Ubuntu_x64.zip\n",
    "Package icongdc-client_v1.5.0_OSX_x64.zip\n",
    "\n",
    "\n",
    "Unzip and move the downloaded GDC transfer tool to the same directory you put your manifest file in i.e. `~/Documents/TCGA_data_download_scidat/` from before.\n",
    "Now we're ready to download the files and annotate them with the data we downloaded.\n",
    "    "
   ]
  },
  {
   "cell_type": "markdown",
   "metadata": {},
   "source": [
    "## Section 2: File download\n",
    "\n",
    "The script below assumes you have put the files from above in `~/Documents/TCGA_data_download_scidat/` and that your `gdc-client` is executable.\n",
    "\n",
    "If you are using a windows machine (or put your files in a different folder you'll need to rename that directory).\n",
    "\n",
    "Before running the script below you will need to make sure you have edited the path to the manifest file, and the gdc_client to be located where you placed them on your computer and with their proper names\n",
    "(e.g. "
   ]
  },
  {
   "cell_type": "code",
   "execution_count": null,
   "metadata": {
    "pycharm": {
     "name": "#%% \n"
    }
   },
   "outputs": [],
   "source": [
    "from scidat import API\n",
    "\n",
    "# SET THIS TO TRUE FOR THE FIRST TIME YOU RUN THIS\n",
    "download = False\n",
    "\n",
    "\"\"\"\n",
    "This will take about 3 minutes so sit back and have a coffee!\n",
    "\n",
    "Note if you have a very large amount of data to download you should increase the max_cnt. \n",
    "This will run a process for each 5 cases, i.e. if your downloading 5000 files, that will be 1000 processes!\n",
    "\n",
    "\"\"\"\n",
    "meta_dir = '/Users/ariane/Documents/TCGA_data_download_scidat/'\n",
    "manifest_file = f'{meta_dir}gdc_manifest_20200416_055430.txt'\n",
    "gdc_client = f'{meta_dir}./gdc-client'\n",
    "download_dir = f'{meta_dir}downloads/'\n",
    "\n",
    "clinical_file = f'{meta_dir}clinical.tsv'\n",
    "sample_file = f'{meta_dir}gdc_sample_sheet.2020-04-16.tsv'\n",
    "\n",
    "# scidat spits the manifest file into submanifests so that we can make multiple calls to TCGA simulateously.\n",
    "# This speeds up the download process. Note, it will use up more of your computers' processing so if you are worried\n",
    "# just set the max_cnt to be more than the number of files in your manifest e.g. 100000000\n",
    "api = API(manifest_file, gdc_client, clinical_file, sample_file, requires_lst=None, clin_cols=None,\n",
    "          max_cnt=5, sciutil=None, split_manifest_dir=download_dir, download_dir=download_dir,\n",
    "          meta_dir=meta_dir, sep='_')\n",
    "\n",
    "if download:\n",
    "    api.download_data_from_manifest()\n"
   ]
  },
  {
   "cell_type": "markdown",
   "metadata": {
    "pycharm": {
     "name": "#%% md\n"
    }
   },
   "source": [
    "## Section 3: Clinical information annotation\n",
    "\n",
    "Here we are going to builld the clinical information dataframe.\n",
    "\n",
    "We're also interested in the mutation data so we're going to download the mutation data."
   ]
  },
  {
   "cell_type": "code",
   "execution_count": null,
   "metadata": {
    "pycharm": {
     "name": "#%%\n"
    }
   },
   "outputs": [],
   "source": [
    "\n",
    "\"\"\"\n",
    "This section will take about 30 second to 1 min\n",
    "\"\"\"\n",
    "\n",
    "# Build the annotation\n",
    "api.build_annotation()\n",
    "\n",
    "# Download the mutation data --> here we can pass only some case IDs or if we leave it empty we download all the \n",
    "# mutation data for our cases.\n",
    "if download:\n",
    "    api.download_mutation_data()\n"
   ]
  },
  {
   "cell_type": "code",
   "execution_count": null,
   "metadata": {},
   "outputs": [],
   "source": [
    "# Now we can do all sorts of things for example get cases with specific metadata\n",
    "# Now we want to check the functionality we expect\n",
    "metadata = {'race': ['white'], 'gender': ['male'], 'project_id': ['TCGA-KIRP']}\n",
    "\n",
    "cases = api.get_cases_with_meta(metadata, \"all\")\n",
    "cases.sort()\n",
    "print(len(cases))"
   ]
  },
  {
   "cell_type": "markdown",
   "metadata": {},
   "source": [
    "## Section 4: Annotation with mutation data\n",
    "\n",
    "Unfortunately TCGA doesn't make it easy to add the mutation annotation data. \n",
    "\n",
    "If in **Section 1** you didn't do the optional *step 5* please go back and download the mutation data as we need this to add the mutation information.\n",
    "\n",
    "How this section works is that we have the different mutations (the file we downloaded from **Section 1** has the mutation ID and the information about the specific mutation. Unfortunatly, this isn't connected to a case (patient). In order to connect the mutation with the patient we need to call the API provided by TCGA (https://docs.gdc.cancer.gov/API/Users_Guide/Data_Analysis/#simple-somatic-mutation-endpoint-examples)."
   ]
  },
  {
   "cell_type": "code",
   "execution_count": null,
   "metadata": {
    "pycharm": {
     "name": "#%%\n"
    }
   },
   "outputs": [],
   "source": [
    "# First lets build the mutation DF\n",
    "api.build_mutation_df()\n",
    "\n",
    "# Lets get all the genes with mutations\n",
    "genes = api.get_genes_with_mutations()\n",
    "print(len(genes))"
   ]
  },
  {
   "cell_type": "markdown",
   "metadata": {
    "pycharm": {
     "name": "#%%"
    }
   },
   "source": [
    "## Look at the data and add gene names\n",
    "\n",
    "Here we build the RNAseq dataframe. Since TCGA gives us the genes identified by their Ensembl ID, we want to annotate these with their `gene symbol`. We do this by using biomart.\n",
    "\n",
    "This section will take some time as we're going to be downloading the annotation information from biomart.\n",
    "\n",
    "Note you won't have to do this everytime! It will just be the first time when you are creating this reference file.\n",
    "\n"
   ]
  },
  {
   "cell_type": "code",
   "execution_count": null,
   "metadata": {},
   "outputs": [],
   "source": [
    "from sciutil import Biomart\n",
    "\n",
    "# Build the RNAseq dataframe\n",
    "api.build_rna_df(download_dir)\n",
    "\n",
    "# Now we need to access biomart to be able to mix between the two (i.e. one is annotated with gene symbol the other has ens id)\n",
    "df = api.get_rna_df()\n",
    "\n",
    "bm = Biomart()\n",
    "df = api.get_rna_df()\n",
    "\n",
    "# Check if we've already downloaded the information\n",
    "gene_annotation_file = None # Note you should set this if you've already run this notebook!! \n",
    "\n",
    "\"\"\"\n",
    "\n",
    "If you need to download the gene annotation information this will take more time. est: 6 minutes\n",
    "\n",
    "\n",
    "\"\"\"\n",
    "if gene_annotation_file is None:\n",
    "    # Set the gene annotation filename\n",
    "    gene_annotation_file = api.u.generate_label([meta_dir, 'gene_info'], '.tsv')\n",
    "    bm.build_gene_info_file('hsapiens_gene_ensembl', None, meta_dir)\n",
    "\n",
    "# Now we want to create the actual annotation dictionary\n",
    "bm.build_gene_annot_dict(gene_annotation_file)\n",
    "\n",
    "# Now we want to add our annotation data to our dataframe\n",
    "# The first parameter is our dataframe, then the second parameter is whether we want to drop rows with null values\n",
    "# We'll drop these rows since we only want data that has full metadata (i.e. go terms etc)\n",
    "df = bm.add_gene_metadata_to_df(df, True)"
   ]
  },
  {
   "cell_type": "markdown",
   "metadata": {},
   "source": [
    "## Example 1: Calculating the logfold change accross 2 conditions\n",
    "Since the data from TCGA is just raw counts, we want to first normalise it. Usually I would use normalisations from DeSeq2, but for this tutorial we'll just log transform counts + 1.\n",
    "\n",
    "Here we'll pretend to be interested in how female KIRC and male KIRC samples differ. To do this, we'll first calculate the log fold change between the two conditions. Then to see if there are any outlier genes, we'll have a look at a volcano plot of the data.\n",
    "\n",
    "\n"
   ]
  },
  {
   "cell_type": "code",
   "execution_count": null,
   "metadata": {},
   "outputs": [],
   "source": [
    "from sciviso import Boxplot, Violinplot\n",
    "import matplotlib.pyplot as plt\n",
    "import numpy as np\n",
    "import pandas as pd\n",
    "\n",
    "filter_col = 'ssm.consequence.0.transcript.gene.symbol'\n",
    "column_returned = \"case_id\"\n",
    "genes_of_interest = ['FH', 'SDHB', 'SDHA', 'SDHC', 'SDHD', 'MET', 'ATF4', 'CHAC1', 'PSAT1', 'NRF2', 'SLC7A11', 'CDKN1A']\n",
    "NF2_mutations = api.get_mutation_values_on_filter(column_returned, ['NF2'], filter_col)\n",
    "\n",
    "transformed_df = pd.DataFrame()\n",
    "values, columns, filtered_df = api.get_values_from_df(df, 'gene_id', NF2_mutations)\n",
    "for c in columns:\n",
    "    if c != 'gene_id' and 'TCGA' in c:\n",
    "        transformed_df['NF2-MUT_' + c] = np.log2(filtered_df[c].values + 1)\n",
    "        \n",
    "met_mutations = api.get_mutation_values_on_filter(column_returned, ['MET'], filter_col)\n",
    "print(len(met_mutations))\n",
    "values, columns, filtered_df = api.get_values_from_df(df, 'gene_id', met_mutations)\n",
    "for c in columns:\n",
    "    if c != 'gene_id' and 'TCGA' in c:\n",
    "        transformed_df['MET-MUT_' + c] = np.log2(filtered_df[c].values + 1)\n",
    "\n",
    "# Now lets calculate the changes between two conditions, let's go with KIRC vs KIRP\n",
    "transformed_df['gene_id'] = df['gene_id'].values\n",
    "\n",
    "boxplot = Boxplot(transformed_df, None, None)\n",
    "box_df = boxplot.format_data_for_boxplot(transformed_df, ['NF2-MUT', 'MET-MUT'], \"gene_id\", [\"FH\"])\n",
    "print(box_df.head())\n",
    "boxplot = Violinplot(box_df, \"Conditions\", \"Values\", \"NF2 MUT and MET MUT\", add_dots=True)\n",
    "boxplot.plot()\n",
    "plt.show()\n",
    "\n",
    "# Here normally we would run edgeR or deseq2 but we're just going to do a simple wilcoxin signed rank test between KIRP and KIRC for these conditions\n",
    "\n"
   ]
  },
  {
   "cell_type": "markdown",
   "metadata": {},
   "source": [
    "## Example 2: Looking at differences across genes between conditions\n",
    "Here we have selected a group of genes and we're interested in how specifc cases change across these genes. For this, we'll use the log transformed data. Here we look at a box plot of each condition on the x axis and the y-values are the values for these conditions.\n",
    "\n",
    "submitter_id\n",
    "project_id\n",
    "age_at_index\n",
    "gender\n",
    "race\n",
    "vital_status\n",
    "tumor_stage\n",
    "normal_samples\n",
    "tumor_samples\n",
    "case_files\n",
    "tumor_stage_num\n",
    "\n",
    "SolidTissueNormal vs PrimaryTumor\n",
    "\n",
    "For this, we're just going to make two plots, a violin plot of the KIRP dataset for a set of genes and the KIRC\n",
    "we're going to be looking at the normal tissue compared with the shape of the tumour tissue"
   ]
  },
  {
   "cell_type": "code",
   "execution_count": null,
   "metadata": {},
   "outputs": [],
   "source": [
    "\n",
    "\n",
    "male_KIRP = api.get_cases_with_meta({'gender': ['male'], 'tumor_stage_num': [1, 2, 3, 4], 'project_id': ['TCGA-KIRP']})\n",
    "male_KIRC = api.get_cases_with_meta({'gender': ['male'], 'tumor_stage_num': [1, 2, 3, 4], 'project_id': ['TCGA-KIRC']})\n",
    "\n",
    "transformed_df = pd.DataFrame()\n",
    "\n",
    "# Here we're going to get a couple of groups of data, first the KIRP normal\n",
    "values, columns, filtered_df = api.get_values_from_df(df, 'gene_id', male_KIRP, None, column_name_includes=[\"SolidTissueNormal\"])\n",
    "for c in columns:\n",
    "    if c != 'gene_id' and 'TCGA' in c:\n",
    "        transformed_df['KIRP-NORMAL_' + c] = np.log2(filtered_df[c].values + 1)\n",
    "values, columns, filtered_df = api.get_values_from_df(df, 'gene_id', male_KIRP, None, column_name_includes=[\"PrimaryTumor\"])\n",
    "for c in columns:\n",
    "    if c != 'gene_id' and 'TCGA' in c:\n",
    "        transformed_df['KIRP-TUMOUR_' + c] = np.log2(filtered_df[c].values + 1)\n",
    "        \n",
    "values, columns, filtered_df = api.get_values_from_df(df, 'gene_id', male_KIRC, None, column_name_includes=[\"SolidTissueNormal\"])\n",
    "for c in columns:\n",
    "    if c != 'gene_id' and 'TCGA' in c:\n",
    "        transformed_df['KIRC-NORMAL_' + c] = np.log2(filtered_df[c].values + 1)\n",
    "values, columns, filtered_df = api.get_values_from_df(df, 'gene_id', male_KIRC, None, column_name_includes=[\"PrimaryTumor\"])\n",
    "for c in columns:\n",
    "    if c != 'gene_id' and 'TCGA' in c:\n",
    "        transformed_df['KIRC-TUMOUR_' + c] = np.log2(filtered_df[c].values + 1)\n",
    "\n",
    "\n",
    "transformed_df['gene_id'] = df['gene_id'].values\n",
    "\n",
    "boxplot = Boxplot(transformed_df, None, None)\n",
    "box_df = boxplot.format_data_for_boxplot(transformed_df, ['KIRP-TUMOUR', 'KIRP-NORMAL', 'KIRC-NORMAL', 'KIRC-TUMOUR'], \"gene_id\", [\"FH\"])\n",
    "boxplot = Violinplot(box_df, \"Conditions\", \"Values\", \"Looking at KIRP v KIRC tumour and normal FH\", add_dots=True)\n",
    "boxplot.plot()\n",
    "plt.show()\n",
    "        "
   ]
  },
  {
   "cell_type": "markdown",
   "metadata": {},
   "source": [
    "\n",
    "## Example 3: Looking at genes across conditions\n",
    "Here we may have a hypothesis related to how a specific gene changes across multiple conditions. For this, we may want to look at a box plot of the genes on the x-axis and the values of that gene from the different samples as the y axis.\n",
    "\n"
   ]
  },
  {
   "cell_type": "code",
   "execution_count": null,
   "metadata": {},
   "outputs": [],
   "source": [
    "from sciviso import Boxplot\n",
    "import matplotlib.pyplot as plt\n",
    "import pandas as pd\n",
    "\n",
    "df = api.get_rna_df()\n",
    "df = bm.add_gene_metadata_to_df(df, False)\n",
    "print(df['gene_id'].values)\n",
    "filter_col = 'ssm.consequence.0.transcript.gene.symbol'\n",
    "column_returned = \"case_id\"\n",
    "genes_of_interest = ['FH', 'MET', 'ATF4', 'CHAC1', 'PSAT1', 'NRF2', 'SLC7A11']\n",
    "# Now we have our genes we want these to be our x axis\n",
    "female_stage1 = api.get_cases_with_meta({'gender': ['female'], 'tumor_stage_num': [1, 2], 'project_id': ['TCGA-KIRP']})\n",
    "female_stage4 = api.get_cases_with_meta({'gender': ['female'], 'tumor_stage_num': [3, 4], 'project_id': ['TCGA-KIRP']})\n",
    "\n",
    "# Lets log2 + 1 the data \n",
    "transformed_df = pd.DataFrame()\n",
    "\n",
    "values, columns, filtered_df = api.get_values_from_df(df, 'gene_id', female_stage4)\n",
    "print(filtered_df.shape)\n",
    "for c in columns:\n",
    "    if c != 'gene_id' and 'TCGA' in c:\n",
    "        transformed_df['LATE_STAGE' + c] = np.log2(filtered_df[c].values + 1)\n",
    "    \n",
    "values, columns, filtered_df = api.get_values_from_df(df, 'gene_id', female_stage1)\n",
    "for c in columns:\n",
    "    if c != 'gene_id' and 'TCGA' in c:\n",
    "        transformed_df['EARLY_STAGE' + c] = np.log2(filtered_df[c].values + 1)\n",
    "\n",
    "transformed_df['gene_id'] = df['gene_id'].values\n",
    "\n",
    "# Lets get the values for these cases \n",
    "# Cool we have 56 and 19 that's enough for a statistical sig let's see if any of our genes are interesting\n",
    "for gene in genes_of_interest:\n",
    "    try:\n",
    "        boxplot = Boxplot(transformed_df, None, None)\n",
    "        box_df = boxplot.format_data_for_boxplot(transformed_df, ['EARLY_STAGE', 'LATE_STAGE'], \"gene_id\", [gene])\n",
    "        boxplot = Boxplot(box_df, \"Conditions\", \"Values\", gene, add_dots=True)\n",
    "        boxplot.plot()\n",
    "        plt.show()\n",
    "    except:\n",
    "        print(gene)"
   ]
  }
 ],
 "metadata": {
  "kernelspec": {
   "display_name": "Python 3",
   "language": "python",
   "name": "python3"
  },
  "language_info": {
   "codemirror_mode": {
    "name": "ipython",
    "version": 3
   },
   "file_extension": ".py",
   "mimetype": "text/x-python",
   "name": "python",
   "nbconvert_exporter": "python",
   "pygments_lexer": "ipython3",
   "version": "3.8.2"
  },
  "pycharm": {
   "stem_cell": {
    "cell_type": "raw",
    "metadata": {
     "collapsed": false
    },
    "source": []
   }
  }
 },
 "nbformat": 4,
 "nbformat_minor": 1
}
