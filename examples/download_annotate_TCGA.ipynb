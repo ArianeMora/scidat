{
 "cells": [
  {
   "cell_type": "markdown",
   "metadata": {
    "collapsed": true,
    "pycharm": {
     "name": "#%% md\n"
    }
   },
   "source": [
    "# Example using scidat: Download Annotate TCGA\n",
    "\n",
    "This was designed to be a simple interface that allows for downloading and annotating data from TCGA.\n"
   ]
  },
  {
   "cell_type": "markdown",
   "source": [
    "## Step 1:\n",
    "Download metatdata from TCGA.\n",
    "For this program to work you need to first go to: https://portal.gdc.cancer.gov/ and select the files to download.\n",
    "\n",
    "In this example, I chose my data by using the following steps:\n",
    "    1. Navigate to `Exploration` tab\n",
    "    2. Selected `kidney` as the Primary Site\n",
    "    3. Selected `solid tissue normal` and `primary tumor` for my Sample Type (823 cases)\n",
    "    4. Clicked `View Files in Repository`\n",
    "    \n",
    "Since I'm only interested in RNAseq count data and Methylation beta values, I filter my files to only include these two types of files.   \n",
    "    5. Selected `RNA-seq` as my Experimental Strategy\n",
    "    6. Selected `HTSeq - Counts` in Workflow Type\n",
    "    7. Clicked `Add all files to cart` (945 files, 815 cases)\n",
    "    8. Unselected `HTSeq - Counts` and unselected `RNA-seq`\n",
    "    9. Selected `Methylation array` as my Experimental Strategy\n",
    "    10. Selected `illumina human methylation 450` in Platform\n",
    "    11. Clicked `Add all files to cart` (832 files, 630 cases)\n",
    "    \n",
    "Now I navigated to my cart which had 1777 files in it. Since it is recomended to use th GDC-data transfer tool (which scidat uses) I only download the `manifest` and the `metadata` for my files of interest.\n",
    "Before proceeding, look at how much space the files will need (e.g. for me this is 117GB) make sure the computer you are downloading on has that space available.\n",
    "\n",
    "### Download: \n",
    "    12. `Biospecimen`\n",
    "    13. `Clinical`\n",
    "    14. `Sample Sheet`\n",
    "    15. `Metadata`\n",
    "    16. Click the `Download` button and select `Manifest`\n",
    "\n",
    "Lastly, move all these files to a new empty directory `~/Documents/TCGA_data_download_scidat/`. \n",
    "Unzip the `Clinical` folder and delete the zipped version.\n",
    "Make a new directory in `~/Documents/TCGA_data_download_scidat/` called `downloads` (we'll use this below)\n",
    "\n",
    "## Get GDC Data Transfer Tool\n",
    "If you haven't already got the GDC transfer tool, you'll need to download this, follow the instructions from TCGA on how to do this:\n",
    "https://gdc.cancer.gov/access-data/gdc-data-transfer-tool\n",
    "\n",
    "Move the downloaded GDC transfer tool to the same directory you put your manifest file in i.e. `~/Documents/TCGA_data_download_scidat/` from before.\n",
    "Now we're ready to download the files and annotate them with the data we downloaded.\n",
    "    "
   ],
   "metadata": {
    "collapsed": false,
    "pycharm": {
     "name": "#%% md\n"
    }
   }
  },
  {
   "cell_type": "markdown",
   "source": [
    "## Step 2\n",
    "\n",
    "The script below assumes you have put the files from above in `~/Documents/TCGA_data_download_scidat/` and that your `gdc-client` is executable.\n",
    "\n",
    "If you are using a windows machine (or put your files in a different folder you'll need to rename that directory).\n",
    "\n",
    "Before running the script below you will need to make sure you have edited the path to the manifest file, and the gdc_client to be located where you placed them on your computer and with their proper names\n",
    "(e.g. "
   ],
   "metadata": {
    "collapsed": false
   }
  },
  {
   "cell_type": "markdown",
   "source": [
    "## Step 2\n",
    "\n",
    "## Download "
   ],
   "metadata": {
    "collapsed": false
   }
  },
  {
   "cell_type": "code",
   "execution_count": null,
   "outputs": [],
   "source": [
    "from scidat import Download\n",
    "manifest_file = '~/Documents/TCGA_data_download_scidat/manifest.tsv'\n",
    "gdc_client = '~/Documents/TCGA_data_download_scidat/./gdc_client'\n",
    "download_dir = '~/Documents/TCGA_data_download_scidat/downloads/'\n",
    "\n",
    "# scidat spits the manifest file into submanifests so that we can make multiple calls to TCGA simulateously. \n",
    "# This speeds up the download process. Note, it will use up more of your computers' processing so if you are worried\n",
    "# just set the max_cnt to be more than the number of files in your manifest e.g. 100000000\n",
    "download = Download(manifest_file, download_dir, download_dir, gdc_client, max_cnt=100000000)"
   ],
   "metadata": {
    "collapsed": false,
    "pycharm": {
     "name": "#%% \n"
    }
   }
  },
  {
   "cell_type": "markdown",
   "source": [
    "## Step 3\n",
    "\n",
    "## Annotate"
   ],
   "metadata": {
    "collapsed": false,
    "pycharm": {
     "name": "#%% md\n"
    }
   }
  },
  {
   "cell_type": "code",
   "execution_count": null,
   "outputs": [],
   "source": [
    "from scidat import Annotate\n"
   ],
   "metadata": {
    "collapsed": false,
    "pycharm": {
     "name": "#%%\n"
    }
   }
  }
 ],
 "metadata": {
  "kernelspec": {
   "display_name": "Python 3",
   "language": "python",
   "name": "python3"
  },
  "language_info": {
   "codemirror_mode": {
    "name": "ipython",
    "version": 2
   },
   "file_extension": ".py",
   "mimetype": "text/x-python",
   "name": "python",
   "nbconvert_exporter": "python",
   "pygments_lexer": "ipython2",
   "version": "2.7.6"
  },
  "pycharm": {
   "stem_cell": {
    "cell_type": "raw",
    "source": [],
    "metadata": {
     "collapsed": false
    }
   }
  }
 },
 "nbformat": 4,
 "nbformat_minor": 0
}